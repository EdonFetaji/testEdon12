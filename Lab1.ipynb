{
  "nbformat": 4,
  "nbformat_minor": 0,
  "metadata": {
    "colab": {
      "provenance": []
    },
    "kernelspec": {
      "name": "python3",
      "display_name": "Python 3"
    },
    "language_info": {
      "name": "python"
    }
  },
  "cells": [
    {
      "cell_type": "markdown",
      "source": [
        "# Lab Exercise 1. Scraping Static Websites\n"
      ],
      "metadata": {
        "id": "skreU4ZawqQ_"
      }
    },
    {
      "cell_type": "markdown",
      "source": [
        "This is the warmup task for the first laboratory exercise. It consists of scraping static Websites with BeautifulSoap.\n",
        "\n",
        " It should be completed at home and presented at the laboratory."
      ],
      "metadata": {
        "id": "VzAWoqz5wwT9"
      }
    },
    {
      "cell_type": "markdown",
      "source": [
        "**Total points: 2**"
      ],
      "metadata": {
        "id": "qpdvbrsow5EE"
      }
    },
    {
      "cell_type": "markdown",
      "source": [
        "### Task Description"
      ],
      "metadata": {
        "id": "6eDmGLrXx0t8"
      }
    },
    {
      "cell_type": "markdown",
      "source": [
        "Scrape the information about the products on the following page:\n",
        "https://clevershop.mk/product-category/mobilni-laptopi-i-tableti/"
      ],
      "metadata": {
        "id": "RG42MHsDxAP_"
      }
    },
    {
      "cell_type": "markdown",
      "source": [
        "For each product scrape:\n",
        "\n",
        "\n",
        "*   Product title (selector `'.wd-entities-title'`)\n",
        "*   Product regular price (selector `'.woocommerce-Price-amount'`)\n",
        "*   Product discount price (if available), same selector as regular price\n",
        "*   URL to the product page\n",
        "*   Add to cart button URL\n",
        "\n",
        "***Help: There are multiple product pages, for each page you need to send a separate request***\n"
      ],
      "metadata": {
        "id": "uoTcMRl4xP3G"
      }
    },
    {
      "cell_type": "markdown",
      "source": [
        "Save the results as a DataFrame object"
      ],
      "metadata": {
        "id": "tc0QvUR8xxwt"
      }
    },
    {
      "cell_type": "markdown",
      "source": [
        "You can add as many code cells as you need."
      ],
      "metadata": {
        "id": "peGjiUZLzbZt"
      }
    },
    {
      "cell_type": "markdown",
      "source": [
        "________________________________________________________________"
      ],
      "metadata": {
        "id": "b7U-kwKSzUIV"
      }
    },
    {
      "cell_type": "markdown",
      "source": [
        "### Requirements"
      ],
      "metadata": {
        "id": "yn5gyMzNx5Vk"
      }
    },
    {
      "cell_type": "markdown",
      "source": [
        "Import libraries and modules that you are going to use"
      ],
      "metadata": {
        "id": "WZ3ifNLhx7tk"
      }
    },
    {
      "cell_type": "code",
      "source": [
        "import pandas as pd\n",
        "import requests\n",
        "from bs4 import BeautifulSoup"
      ],
      "metadata": {
        "id": "GQ3zSO8WyJC_"
      },
      "execution_count": null,
      "outputs": []
    },
    {
      "cell_type": "markdown",
      "source": [
        "### Send HTTP request to the target Website"
      ],
      "metadata": {
        "id": "fsR71mugyJP7"
      }
    },
    {
      "cell_type": "code",
      "source": [
        "\n",
        "url = \"https://clevershop.mk/product-category/mobilni-laptopi-i-tableti/\"\n",
        "request = requests.request(\"Get\",url)"
      ],
      "metadata": {
        "id": "61ImGen2yQff"
      },
      "execution_count": null,
      "outputs": []
    },
    {
      "cell_type": "markdown",
      "source": [
        "check the response status code"
      ],
      "metadata": {
        "id": "lFnRsSVJyXit"
      }
    },
    {
      "cell_type": "code",
      "source": [
        "request.status_code"
      ],
      "metadata": {
        "id": "xy6xJ3RGyXUN",
        "colab": {
          "base_uri": "https://localhost:8080/"
        },
        "outputId": "1ff3efcf-5a9e-492a-9f29-d34d18ea3692"
      },
      "execution_count": null,
      "outputs": [
        {
          "output_type": "execute_result",
          "data": {
            "text/plain": [
              "200"
            ]
          },
          "metadata": {},
          "execution_count": 3
        }
      ]
    },
    {
      "cell_type": "markdown",
      "source": [
        "### Parse the response content with BeautifulSoap"
      ],
      "metadata": {
        "id": "-MykzAV4yQ4j"
      }
    },
    {
      "cell_type": "code",
      "source": [
        "soup = BeautifulSoup(request.text,'html.parser')\n"
      ],
      "metadata": {
        "id": "F92A3wvlyUBc"
      },
      "execution_count": null,
      "outputs": []
    },
    {
      "cell_type": "markdown",
      "source": [
        "### Extract data from the BeautifulSoap object using any selectors, attribute identifiers, etc."
      ],
      "metadata": {
        "id": "F8hifMvVycfV"
      }
    },
    {
      "cell_type": "markdown",
      "source": [
        "* Product title (selector '.wd-entities-title')\n",
        "* Product regular price (selector '.woocommerce-Price-amount')\n",
        "* Product discount price (if available), same selector as regular price\n",
        "* URL to the product page\n",
        "* Add to cart button URL"
      ],
      "metadata": {
        "id": "sHgfHr61y2tD"
      }
    },
    {
      "cell_type": "code",
      "source": [
        "def get_value(element,selector):\n",
        "  if element is None:\n",
        "    return \"None\"\n",
        "\n",
        "  value = ''\n",
        "\n",
        "  if \"> a\" in selector:\n",
        "    value = element.get(\"href\")\n",
        "  else :\n",
        "    value = element.text\n",
        "\n",
        "  return value.strip()\n",
        "\n",
        "\n",
        "def extract_data(products):\n",
        "  result= []\n",
        "  headers=[\"Title\",\"Product Url\",\"Add to cart Url\",\"Price\",'Discount Price']\n",
        "  classes=[\".wd-entities-title\",\".product-element-top > a\",\".wd-add-btn > a\",\".woocommerce-Price-amount bdi\",\"div.woocommerce-Price-amount:nth-child(2) bdi\"]\n",
        "\n",
        "  for p in products:\n",
        "    p_data={}\n",
        "\n",
        "    for key,selector in zip(headers,classes):\n",
        "\n",
        "      element= p.select_one(selector)\n",
        "      p_data[key] = get_value(element,selector)\n",
        "\n",
        "    result.append(p_data)\n",
        "\n",
        "  return result\n",
        "\n"
      ],
      "metadata": {
        "id": "UV1kZCRyycQF"
      },
      "execution_count": null,
      "outputs": []
    },
    {
      "cell_type": "markdown",
      "source": [
        "Repeat the extraction process for each page of products"
      ],
      "metadata": {
        "id": "gToy7d5Jy9Qk"
      }
    },
    {
      "cell_type": "code",
      "source": [
        "i=1;\n",
        "all_products=[]\n",
        "while True:\n",
        "  next_url = url+'/page/'+str(i)\n",
        "  i+=1\n",
        "  req = requests.request(\"GET\",next_url)\n",
        "  soup = BeautifulSoup(req.text,'html.parser')\n",
        "\n",
        "  products = soup.find_all('div',attrs={\"class\":\"product-wrapper\"})\n",
        "\n",
        "  if(len(products)==0):\n",
        "    break\n",
        "\n",
        "  all_products += extract_data(products)\n",
        "\n"
      ],
      "metadata": {
        "id": "rVdYuEv3zArs"
      },
      "execution_count": null,
      "outputs": []
    },
    {
      "cell_type": "markdown",
      "source": [
        "### Create a pandas DataFrame with the scraped products"
      ],
      "metadata": {
        "id": "R4OIUt0AynuU"
      }
    },
    {
      "cell_type": "code",
      "source": [
        "df = pd.DataFrame(all_products)\n",
        "df"
      ],
      "metadata": {
        "id": "-wCzGEj8yrKU",
        "colab": {
          "base_uri": "https://localhost:8080/",
          "height": 614
        },
        "outputId": "eefcea75-2a70-4cdf-f4f9-1812479254cd"
      },
      "execution_count": null,
      "outputs": [
        {
          "output_type": "execute_result",
          "data": {
            "text/plain": [
              "                                                 Title  \\\n",
              "0                                    Acer A315-23-A7KD   \n",
              "1                                    Acer A315-23-R5P2   \n",
              "2                                ACER Aspire 1 A115-22   \n",
              "3                           Acer Aspire 3 A315-23-R26A   \n",
              "4                           Acer Aspire 3 A315-58-33WK   \n",
              "..                                                 ...   \n",
              "315        Monitor 27 Philips 272E1GAJ/00 VA 1ms 144Hz   \n",
              "316                              Philips 24″ 243V7QDSB   \n",
              "317                   Philips 27″ 278E1A/00 4K UHD IPS   \n",
              "318  Philips 279C9-00 MON LED 27″ 3840 x 2160 5Ms 6...   \n",
              "319                      Xiaomi Redmi AirDots Wireless   \n",
              "\n",
              "                                           Product Url     Add to cart Url  \\\n",
              "0     https://clevershop.mk/product/acer-a315-23-a7kd/  ?add-to-cart=21494   \n",
              "1     https://clevershop.mk/product/acer-a315-23-r5p2/  ?add-to-cart=21510   \n",
              "2    https://clevershop.mk/product/acer-aspire-1-nx...  ?add-to-cart=20826   \n",
              "3    https://clevershop.mk/product/acer-aspire-3-a3...  ?add-to-cart=21516   \n",
              "4                 https://clevershop.mk/product/21498/  ?add-to-cart=21498   \n",
              "..                                                 ...                 ...   \n",
              "315  https://clevershop.mk/product/monitor-27-phili...  ?add-to-cart=12618   \n",
              "316  https://clevershop.mk/product/philips-24%e2%80...  ?add-to-cart=12396   \n",
              "317  https://clevershop.mk/product/hp-27%e2%80%b3-2...  ?add-to-cart=12218   \n",
              "318  https://clevershop.mk/product/philips-279c9-00...  ?add-to-cart=12578   \n",
              "319    https://clevershop.mk/product/redmi-headphones/  ?add-to-cart=10663   \n",
              "\n",
              "          Price Discount Price  \n",
              "0    17.590 ден           None  \n",
              "1    27.490 ден           None  \n",
              "2    18.999 ден           None  \n",
              "3    29.990 ден           None  \n",
              "4    24.490 ден           None  \n",
              "..          ...            ...  \n",
              "315  12.890 ден           None  \n",
              "316   8.390 ден           None  \n",
              "317  18.990 ден           None  \n",
              "318  26.990 ден           None  \n",
              "319     990 ден           None  \n",
              "\n",
              "[320 rows x 5 columns]"
            ],
            "text/html": [
              "\n",
              "  <div id=\"df-c6c829c4-a72f-428a-88d7-4a5a546488d6\" class=\"colab-df-container\">\n",
              "    <div>\n",
              "<style scoped>\n",
              "    .dataframe tbody tr th:only-of-type {\n",
              "        vertical-align: middle;\n",
              "    }\n",
              "\n",
              "    .dataframe tbody tr th {\n",
              "        vertical-align: top;\n",
              "    }\n",
              "\n",
              "    .dataframe thead th {\n",
              "        text-align: right;\n",
              "    }\n",
              "</style>\n",
              "<table border=\"1\" class=\"dataframe\">\n",
              "  <thead>\n",
              "    <tr style=\"text-align: right;\">\n",
              "      <th></th>\n",
              "      <th>Title</th>\n",
              "      <th>Product Url</th>\n",
              "      <th>Add to cart Url</th>\n",
              "      <th>Price</th>\n",
              "      <th>Discount Price</th>\n",
              "    </tr>\n",
              "  </thead>\n",
              "  <tbody>\n",
              "    <tr>\n",
              "      <th>0</th>\n",
              "      <td>Acer A315-23-A7KD</td>\n",
              "      <td>https://clevershop.mk/product/acer-a315-23-a7kd/</td>\n",
              "      <td>?add-to-cart=21494</td>\n",
              "      <td>17.590 ден</td>\n",
              "      <td>None</td>\n",
              "    </tr>\n",
              "    <tr>\n",
              "      <th>1</th>\n",
              "      <td>Acer A315-23-R5P2</td>\n",
              "      <td>https://clevershop.mk/product/acer-a315-23-r5p2/</td>\n",
              "      <td>?add-to-cart=21510</td>\n",
              "      <td>27.490 ден</td>\n",
              "      <td>None</td>\n",
              "    </tr>\n",
              "    <tr>\n",
              "      <th>2</th>\n",
              "      <td>ACER Aspire 1 A115-22</td>\n",
              "      <td>https://clevershop.mk/product/acer-aspire-1-nx...</td>\n",
              "      <td>?add-to-cart=20826</td>\n",
              "      <td>18.999 ден</td>\n",
              "      <td>None</td>\n",
              "    </tr>\n",
              "    <tr>\n",
              "      <th>3</th>\n",
              "      <td>Acer Aspire 3 A315-23-R26A</td>\n",
              "      <td>https://clevershop.mk/product/acer-aspire-3-a3...</td>\n",
              "      <td>?add-to-cart=21516</td>\n",
              "      <td>29.990 ден</td>\n",
              "      <td>None</td>\n",
              "    </tr>\n",
              "    <tr>\n",
              "      <th>4</th>\n",
              "      <td>Acer Aspire 3 A315-58-33WK</td>\n",
              "      <td>https://clevershop.mk/product/21498/</td>\n",
              "      <td>?add-to-cart=21498</td>\n",
              "      <td>24.490 ден</td>\n",
              "      <td>None</td>\n",
              "    </tr>\n",
              "    <tr>\n",
              "      <th>...</th>\n",
              "      <td>...</td>\n",
              "      <td>...</td>\n",
              "      <td>...</td>\n",
              "      <td>...</td>\n",
              "      <td>...</td>\n",
              "    </tr>\n",
              "    <tr>\n",
              "      <th>315</th>\n",
              "      <td>Monitor 27 Philips 272E1GAJ/00 VA 1ms 144Hz</td>\n",
              "      <td>https://clevershop.mk/product/monitor-27-phili...</td>\n",
              "      <td>?add-to-cart=12618</td>\n",
              "      <td>12.890 ден</td>\n",
              "      <td>None</td>\n",
              "    </tr>\n",
              "    <tr>\n",
              "      <th>316</th>\n",
              "      <td>Philips 24″ 243V7QDSB</td>\n",
              "      <td>https://clevershop.mk/product/philips-24%e2%80...</td>\n",
              "      <td>?add-to-cart=12396</td>\n",
              "      <td>8.390 ден</td>\n",
              "      <td>None</td>\n",
              "    </tr>\n",
              "    <tr>\n",
              "      <th>317</th>\n",
              "      <td>Philips 27″ 278E1A/00 4K UHD IPS</td>\n",
              "      <td>https://clevershop.mk/product/hp-27%e2%80%b3-2...</td>\n",
              "      <td>?add-to-cart=12218</td>\n",
              "      <td>18.990 ден</td>\n",
              "      <td>None</td>\n",
              "    </tr>\n",
              "    <tr>\n",
              "      <th>318</th>\n",
              "      <td>Philips 279C9-00 MON LED 27″ 3840 x 2160 5Ms 6...</td>\n",
              "      <td>https://clevershop.mk/product/philips-279c9-00...</td>\n",
              "      <td>?add-to-cart=12578</td>\n",
              "      <td>26.990 ден</td>\n",
              "      <td>None</td>\n",
              "    </tr>\n",
              "    <tr>\n",
              "      <th>319</th>\n",
              "      <td>Xiaomi Redmi AirDots Wireless</td>\n",
              "      <td>https://clevershop.mk/product/redmi-headphones/</td>\n",
              "      <td>?add-to-cart=10663</td>\n",
              "      <td>990 ден</td>\n",
              "      <td>None</td>\n",
              "    </tr>\n",
              "  </tbody>\n",
              "</table>\n",
              "<p>320 rows × 5 columns</p>\n",
              "</div>\n",
              "    <div class=\"colab-df-buttons\">\n",
              "\n",
              "  <div class=\"colab-df-container\">\n",
              "    <button class=\"colab-df-convert\" onclick=\"convertToInteractive('df-c6c829c4-a72f-428a-88d7-4a5a546488d6')\"\n",
              "            title=\"Convert this dataframe to an interactive table.\"\n",
              "            style=\"display:none;\">\n",
              "\n",
              "  <svg xmlns=\"http://www.w3.org/2000/svg\" height=\"24px\" viewBox=\"0 -960 960 960\">\n",
              "    <path d=\"M120-120v-720h720v720H120Zm60-500h600v-160H180v160Zm220 220h160v-160H400v160Zm0 220h160v-160H400v160ZM180-400h160v-160H180v160Zm440 0h160v-160H620v160ZM180-180h160v-160H180v160Zm440 0h160v-160H620v160Z\"/>\n",
              "  </svg>\n",
              "    </button>\n",
              "\n",
              "  <style>\n",
              "    .colab-df-container {\n",
              "      display:flex;\n",
              "      gap: 12px;\n",
              "    }\n",
              "\n",
              "    .colab-df-convert {\n",
              "      background-color: #E8F0FE;\n",
              "      border: none;\n",
              "      border-radius: 50%;\n",
              "      cursor: pointer;\n",
              "      display: none;\n",
              "      fill: #1967D2;\n",
              "      height: 32px;\n",
              "      padding: 0 0 0 0;\n",
              "      width: 32px;\n",
              "    }\n",
              "\n",
              "    .colab-df-convert:hover {\n",
              "      background-color: #E2EBFA;\n",
              "      box-shadow: 0px 1px 2px rgba(60, 64, 67, 0.3), 0px 1px 3px 1px rgba(60, 64, 67, 0.15);\n",
              "      fill: #174EA6;\n",
              "    }\n",
              "\n",
              "    .colab-df-buttons div {\n",
              "      margin-bottom: 4px;\n",
              "    }\n",
              "\n",
              "    [theme=dark] .colab-df-convert {\n",
              "      background-color: #3B4455;\n",
              "      fill: #D2E3FC;\n",
              "    }\n",
              "\n",
              "    [theme=dark] .colab-df-convert:hover {\n",
              "      background-color: #434B5C;\n",
              "      box-shadow: 0px 1px 3px 1px rgba(0, 0, 0, 0.15);\n",
              "      filter: drop-shadow(0px 1px 2px rgba(0, 0, 0, 0.3));\n",
              "      fill: #FFFFFF;\n",
              "    }\n",
              "  </style>\n",
              "\n",
              "    <script>\n",
              "      const buttonEl =\n",
              "        document.querySelector('#df-c6c829c4-a72f-428a-88d7-4a5a546488d6 button.colab-df-convert');\n",
              "      buttonEl.style.display =\n",
              "        google.colab.kernel.accessAllowed ? 'block' : 'none';\n",
              "\n",
              "      async function convertToInteractive(key) {\n",
              "        const element = document.querySelector('#df-c6c829c4-a72f-428a-88d7-4a5a546488d6');\n",
              "        const dataTable =\n",
              "          await google.colab.kernel.invokeFunction('convertToInteractive',\n",
              "                                                    [key], {});\n",
              "        if (!dataTable) return;\n",
              "\n",
              "        const docLinkHtml = 'Like what you see? Visit the ' +\n",
              "          '<a target=\"_blank\" href=https://colab.research.google.com/notebooks/data_table.ipynb>data table notebook</a>'\n",
              "          + ' to learn more about interactive tables.';\n",
              "        element.innerHTML = '';\n",
              "        dataTable['output_type'] = 'display_data';\n",
              "        await google.colab.output.renderOutput(dataTable, element);\n",
              "        const docLink = document.createElement('div');\n",
              "        docLink.innerHTML = docLinkHtml;\n",
              "        element.appendChild(docLink);\n",
              "      }\n",
              "    </script>\n",
              "  </div>\n",
              "\n",
              "\n",
              "<div id=\"df-390e1e5f-4af0-4d0d-a08b-dfae0719a610\">\n",
              "  <button class=\"colab-df-quickchart\" onclick=\"quickchart('df-390e1e5f-4af0-4d0d-a08b-dfae0719a610')\"\n",
              "            title=\"Suggest charts\"\n",
              "            style=\"display:none;\">\n",
              "\n",
              "<svg xmlns=\"http://www.w3.org/2000/svg\" height=\"24px\"viewBox=\"0 0 24 24\"\n",
              "     width=\"24px\">\n",
              "    <g>\n",
              "        <path d=\"M19 3H5c-1.1 0-2 .9-2 2v14c0 1.1.9 2 2 2h14c1.1 0 2-.9 2-2V5c0-1.1-.9-2-2-2zM9 17H7v-7h2v7zm4 0h-2V7h2v10zm4 0h-2v-4h2v4z\"/>\n",
              "    </g>\n",
              "</svg>\n",
              "  </button>\n",
              "\n",
              "<style>\n",
              "  .colab-df-quickchart {\n",
              "      --bg-color: #E8F0FE;\n",
              "      --fill-color: #1967D2;\n",
              "      --hover-bg-color: #E2EBFA;\n",
              "      --hover-fill-color: #174EA6;\n",
              "      --disabled-fill-color: #AAA;\n",
              "      --disabled-bg-color: #DDD;\n",
              "  }\n",
              "\n",
              "  [theme=dark] .colab-df-quickchart {\n",
              "      --bg-color: #3B4455;\n",
              "      --fill-color: #D2E3FC;\n",
              "      --hover-bg-color: #434B5C;\n",
              "      --hover-fill-color: #FFFFFF;\n",
              "      --disabled-bg-color: #3B4455;\n",
              "      --disabled-fill-color: #666;\n",
              "  }\n",
              "\n",
              "  .colab-df-quickchart {\n",
              "    background-color: var(--bg-color);\n",
              "    border: none;\n",
              "    border-radius: 50%;\n",
              "    cursor: pointer;\n",
              "    display: none;\n",
              "    fill: var(--fill-color);\n",
              "    height: 32px;\n",
              "    padding: 0;\n",
              "    width: 32px;\n",
              "  }\n",
              "\n",
              "  .colab-df-quickchart:hover {\n",
              "    background-color: var(--hover-bg-color);\n",
              "    box-shadow: 0 1px 2px rgba(60, 64, 67, 0.3), 0 1px 3px 1px rgba(60, 64, 67, 0.15);\n",
              "    fill: var(--button-hover-fill-color);\n",
              "  }\n",
              "\n",
              "  .colab-df-quickchart-complete:disabled,\n",
              "  .colab-df-quickchart-complete:disabled:hover {\n",
              "    background-color: var(--disabled-bg-color);\n",
              "    fill: var(--disabled-fill-color);\n",
              "    box-shadow: none;\n",
              "  }\n",
              "\n",
              "  .colab-df-spinner {\n",
              "    border: 2px solid var(--fill-color);\n",
              "    border-color: transparent;\n",
              "    border-bottom-color: var(--fill-color);\n",
              "    animation:\n",
              "      spin 1s steps(1) infinite;\n",
              "  }\n",
              "\n",
              "  @keyframes spin {\n",
              "    0% {\n",
              "      border-color: transparent;\n",
              "      border-bottom-color: var(--fill-color);\n",
              "      border-left-color: var(--fill-color);\n",
              "    }\n",
              "    20% {\n",
              "      border-color: transparent;\n",
              "      border-left-color: var(--fill-color);\n",
              "      border-top-color: var(--fill-color);\n",
              "    }\n",
              "    30% {\n",
              "      border-color: transparent;\n",
              "      border-left-color: var(--fill-color);\n",
              "      border-top-color: var(--fill-color);\n",
              "      border-right-color: var(--fill-color);\n",
              "    }\n",
              "    40% {\n",
              "      border-color: transparent;\n",
              "      border-right-color: var(--fill-color);\n",
              "      border-top-color: var(--fill-color);\n",
              "    }\n",
              "    60% {\n",
              "      border-color: transparent;\n",
              "      border-right-color: var(--fill-color);\n",
              "    }\n",
              "    80% {\n",
              "      border-color: transparent;\n",
              "      border-right-color: var(--fill-color);\n",
              "      border-bottom-color: var(--fill-color);\n",
              "    }\n",
              "    90% {\n",
              "      border-color: transparent;\n",
              "      border-bottom-color: var(--fill-color);\n",
              "    }\n",
              "  }\n",
              "</style>\n",
              "\n",
              "  <script>\n",
              "    async function quickchart(key) {\n",
              "      const quickchartButtonEl =\n",
              "        document.querySelector('#' + key + ' button');\n",
              "      quickchartButtonEl.disabled = true;  // To prevent multiple clicks.\n",
              "      quickchartButtonEl.classList.add('colab-df-spinner');\n",
              "      try {\n",
              "        const charts = await google.colab.kernel.invokeFunction(\n",
              "            'suggestCharts', [key], {});\n",
              "      } catch (error) {\n",
              "        console.error('Error during call to suggestCharts:', error);\n",
              "      }\n",
              "      quickchartButtonEl.classList.remove('colab-df-spinner');\n",
              "      quickchartButtonEl.classList.add('colab-df-quickchart-complete');\n",
              "    }\n",
              "    (() => {\n",
              "      let quickchartButtonEl =\n",
              "        document.querySelector('#df-390e1e5f-4af0-4d0d-a08b-dfae0719a610 button');\n",
              "      quickchartButtonEl.style.display =\n",
              "        google.colab.kernel.accessAllowed ? 'block' : 'none';\n",
              "    })();\n",
              "  </script>\n",
              "</div>\n",
              "\n",
              "  <div id=\"id_d817369a-6904-44b2-a878-b24b336a3d58\">\n",
              "    <style>\n",
              "      .colab-df-generate {\n",
              "        background-color: #E8F0FE;\n",
              "        border: none;\n",
              "        border-radius: 50%;\n",
              "        cursor: pointer;\n",
              "        display: none;\n",
              "        fill: #1967D2;\n",
              "        height: 32px;\n",
              "        padding: 0 0 0 0;\n",
              "        width: 32px;\n",
              "      }\n",
              "\n",
              "      .colab-df-generate:hover {\n",
              "        background-color: #E2EBFA;\n",
              "        box-shadow: 0px 1px 2px rgba(60, 64, 67, 0.3), 0px 1px 3px 1px rgba(60, 64, 67, 0.15);\n",
              "        fill: #174EA6;\n",
              "      }\n",
              "\n",
              "      [theme=dark] .colab-df-generate {\n",
              "        background-color: #3B4455;\n",
              "        fill: #D2E3FC;\n",
              "      }\n",
              "\n",
              "      [theme=dark] .colab-df-generate:hover {\n",
              "        background-color: #434B5C;\n",
              "        box-shadow: 0px 1px 3px 1px rgba(0, 0, 0, 0.15);\n",
              "        filter: drop-shadow(0px 1px 2px rgba(0, 0, 0, 0.3));\n",
              "        fill: #FFFFFF;\n",
              "      }\n",
              "    </style>\n",
              "    <button class=\"colab-df-generate\" onclick=\"generateWithVariable('df')\"\n",
              "            title=\"Generate code using this dataframe.\"\n",
              "            style=\"display:none;\">\n",
              "\n",
              "  <svg xmlns=\"http://www.w3.org/2000/svg\" height=\"24px\"viewBox=\"0 0 24 24\"\n",
              "       width=\"24px\">\n",
              "    <path d=\"M7,19H8.4L18.45,9,17,7.55,7,17.6ZM5,21V16.75L18.45,3.32a2,2,0,0,1,2.83,0l1.4,1.43a1.91,1.91,0,0,1,.58,1.4,1.91,1.91,0,0,1-.58,1.4L9.25,21ZM18.45,9,17,7.55Zm-12,3A5.31,5.31,0,0,0,4.9,8.1,5.31,5.31,0,0,0,1,6.5,5.31,5.31,0,0,0,4.9,4.9,5.31,5.31,0,0,0,6.5,1,5.31,5.31,0,0,0,8.1,4.9,5.31,5.31,0,0,0,12,6.5,5.46,5.46,0,0,0,6.5,12Z\"/>\n",
              "  </svg>\n",
              "    </button>\n",
              "    <script>\n",
              "      (() => {\n",
              "      const buttonEl =\n",
              "        document.querySelector('#id_d817369a-6904-44b2-a878-b24b336a3d58 button.colab-df-generate');\n",
              "      buttonEl.style.display =\n",
              "        google.colab.kernel.accessAllowed ? 'block' : 'none';\n",
              "\n",
              "      buttonEl.onclick = () => {\n",
              "        google.colab.notebook.generateWithVariable('df');\n",
              "      }\n",
              "      })();\n",
              "    </script>\n",
              "  </div>\n",
              "\n",
              "    </div>\n",
              "  </div>\n"
            ],
            "application/vnd.google.colaboratory.intrinsic+json": {
              "type": "dataframe",
              "variable_name": "df",
              "summary": "{\n  \"name\": \"df\",\n  \"rows\": 320,\n  \"fields\": [\n    {\n      \"column\": \"Title\",\n      \"properties\": {\n        \"dtype\": \"string\",\n        \"num_unique_values\": 315,\n        \"samples\": [\n          \"Samsung Galaxy A22 5G 64GB 4GB RAM\",\n          \"Acer Predator Helios 300 PH315-54-949Y\",\n          \"Lenovo 100e Windows 2nd Gen 81M80035US 11.6\\u2033 Netbook\"\n        ],\n        \"semantic_type\": \"\",\n        \"description\": \"\"\n      }\n    },\n    {\n      \"column\": \"Product Url\",\n      \"properties\": {\n        \"dtype\": \"string\",\n        \"num_unique_values\": 320,\n        \"samples\": [\n          \"https://clevershop.mk/product/lenovo-14w-gen-2/\",\n          \"https://clevershop.mk/product/samsung-galaxy-s21-ultra-5g-256gb-12gb-ram/\",\n          \"https://clevershop.mk/product/acer-nitro-5-gaming-an517-41/\"\n        ],\n        \"semantic_type\": \"\",\n        \"description\": \"\"\n      }\n    },\n    {\n      \"column\": \"Add to cart Url\",\n      \"properties\": {\n        \"dtype\": \"string\",\n        \"num_unique_values\": 320,\n        \"samples\": [\n          \"?add-to-cart=20954\",\n          \"?add-to-cart=20036\",\n          \"?add-to-cart=21316\"\n        ],\n        \"semantic_type\": \"\",\n        \"description\": \"\"\n      }\n    },\n    {\n      \"column\": \"Price\",\n      \"properties\": {\n        \"dtype\": \"string\",\n        \"num_unique_values\": 183,\n        \"samples\": [\n          \"47.990\\u00a0\\u0434\\u0435\\u043d\",\n          \"38.990\\u00a0\\u0434\\u0435\\u043d\",\n          \"61.990\\u00a0\\u0434\\u0435\\u043d\"\n        ],\n        \"semantic_type\": \"\",\n        \"description\": \"\"\n      }\n    },\n    {\n      \"column\": \"Discount Price\",\n      \"properties\": {\n        \"dtype\": \"category\",\n        \"num_unique_values\": 1,\n        \"samples\": [\n          \"None\"\n        ],\n        \"semantic_type\": \"\",\n        \"description\": \"\"\n      }\n    }\n  ]\n}"
            }
          },
          "metadata": {},
          "execution_count": 64
        }
      ]
    },
    {
      "cell_type": "markdown",
      "source": [
        "Save the dataframe as `.csv`"
      ],
      "metadata": {
        "id": "Rxbi54EOyrb8"
      }
    },
    {
      "cell_type": "code",
      "source": [
        "df.to_csv('CleverShop_telefoni_datatable.csv')"
      ],
      "metadata": {
        "id": "TLNfZQ07yuQE"
      },
      "execution_count": null,
      "outputs": []
    }
  ]
}